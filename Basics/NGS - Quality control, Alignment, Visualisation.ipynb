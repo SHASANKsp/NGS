{
 "cells": [
  {
   "cell_type": "markdown",
   "id": "0be42802",
   "metadata": {},
   "source": [
    "# NGS - Quality control, Alignment, Visualisation"
   ]
  },
  {
   "cell_type": "markdown",
   "id": "9c248eeb",
   "metadata": {},
   "source": [
    "-------------------------------------------------------------------------------------------------------------------------------"
   ]
  },
  {
   "cell_type": "markdown",
   "id": "d4482504",
   "metadata": {},
   "source": [
    "-------------------------------------------------------------------------------------------------------------------------------"
   ]
  },
  {
   "cell_type": "markdown",
   "id": "d568d008",
   "metadata": {},
   "source": [
    "## Quality control\n",
    "- Find information about a sequence run on the Sequence Read Archive\n",
    "- Run fastqc on sequence reads and interpret the results\n",
    "- Trim adapters and low quality bases using cutadapt\n",
    "\n",
    "FASTQC - https://www.bioinformatics.babraham.ac.uk/projects/fastqc/INSTALL.txt\n",
    "\n",
    "cutadapt - https://cutadapt.readthedocs.io/en/stable/\n",
    "\n",
    "SRA - https://www.ncbi.nlm.nih.gov/sra/\n",
    "\n",
    "- Browse around the SRA entry and answer these questions:\n",
    "    - Is the dataset paired-end or single end?\n",
    "    - Which instrument was used for sequencing?\n",
    "    - What is the read length?\n",
    "    - How many reads do we have?"
   ]
  },
  {
   "cell_type": "markdown",
   "id": "35df46b6",
   "metadata": {},
   "source": [
    "#### Step 01 - Download and evaluate the dataset\n",
    "- Make a directory reads in ~/workdir.\n",
    "- Download the reads from the SRA database using prefetch and fastq-dump from SRA-Tools into the reads directory. "
   ]
  },
  {
   "cell_type": "markdown",
   "id": "305f9af4",
   "metadata": {},
   "source": [
    "- Run 01_download_reads.sh from folder"
   ]
  },
  {
   "cell_type": "markdown",
   "id": "6bc7f884",
   "metadata": {},
   "source": [
    "#### Step 02 - Run fastqc\n",
    "- Run 02_run_fastqc.sh from folder"
   ]
  },
  {
   "cell_type": "markdown",
   "id": "1b07c33b",
   "metadata": {},
   "source": [
    "#### Step 03 - Trim the reads\n",
    "- We will use cutadapt for trimming adapters and low quality bases from our reads. The most used adapters for Illumina are TruSeq adapters. \n",
    "- To run cutadapt you need to specify the adapter sequences with options -a (or --adapter) and -A.\n",
    "\n",
    "- We want to:\n",
    "    - trim bases with a quality lower then cutoff from the 3’ and 5’ end of the reads,\n",
    "    - keep only reads with a read length not shorter than cutoff base pairs.\n"
   ]
  },
  {
   "cell_type": "markdown",
   "id": "124a55e2",
   "metadata": {},
   "source": [
    "- Run 03_trim_reads.sh from folder"
   ]
  },
  {
   "cell_type": "markdown",
   "id": "4aca839f",
   "metadata": {},
   "source": [
    "#### Step 04 - Run fastqc on trimed file\n",
    "- Run 04_run_fastqc_trimmed.sh from folder\n",
    "    - Check for improvement in quality\n",
    "    - Reduction in number of reads"
   ]
  },
  {
   "cell_type": "markdown",
   "id": "149aa74c",
   "metadata": {},
   "source": [
    "## Read alignment"
   ]
  },
  {
   "cell_type": "markdown",
   "id": "d65e02c4",
   "metadata": {},
   "source": [
    "- Explain what a sequence aligner does\n",
    "- Explain why in some cases the aligner needs to be ‘splice-aware’\n",
    "- Calculate mapping quality out of the probability that a mapping position is wrong\n",
    "- Build an index of the reference and perform an alignment of paired-end reads with bowtie2"
   ]
  },
  {
   "cell_type": "markdown",
   "id": "08dc8a4f",
   "metadata": {},
   "source": [
    "Bowtie - http://bowtie-bio.sourceforge.net/bowtie2/manual.shtml#command-line\n",
    "\n",
    "Ben Langmead’s youtube channel for  suffix matrixes/trees - https://www.youtube.com/channel/UCrDmN9uRVJR7KM8aRE_58Zw"
   ]
  },
  {
   "cell_type": "markdown",
   "id": "69b1af81",
   "metadata": {},
   "source": [
    "- Aligner finds substrings(reads) in large string(ref)\n",
    "    - Basics of indexing and querying to be studied!\n",
    "    \n",
    "    \n",
    "- Softwares:\n",
    "    - Basic alignment:\n",
    "        - bowtie2 (BWT; default = global)\n",
    "        - bwa-mem (BWT; default = local )\n",
    "    - Splice-aware (RNA-seq):\n",
    "        - hisat2\n",
    "        - STAR\n",
    "    - Long reads + short reads + splice-aware:\n",
    "        - minimap2\n",
    "\n",
    "\n",
    "- Mapping quality:\n"
   ]
  },
  {
   "cell_type": "markdown",
   "id": "07b36391",
   "metadata": {},
   "source": [
    "#### Step 05 - Preparing the reference sequence\n",
    "- Run 05_download_ecoli_reference.sh\n",
    "    - Downloading reference genome\n",
    "\n",
    "- Run 06_build_bowtie_index.sh\n",
    "    -  Indexing reference genome with bowtie2"
   ]
  },
  {
   "cell_type": "markdown",
   "id": "15d827d3",
   "metadata": {},
   "source": [
    "#### Step 06 - Aligning the reads with bowtie2\n",
    "Syntax for aligning using bowtie:\n",
    "- bowtie2 [options]* -x <bt2-idx> {-1 <m1> -2 <m2> | -U <r> | --interleaved <i> | --sra-acc <acc> | b <bam>}\n",
    "    - We’ll need the options:\n",
    "        -x to point to our index\n",
    "        -1 and -2 to point to our forward and reverse reads\n",
    "    \n",
    "Run 07_align_reads.sh\n",
    "    \n",
    "- bowtie2 writes some statistics to stdout\n",
    "- non-concordant alignments ? - http://bowtie-bio.sourceforge.net/bowtie2/manual.shtml#concordant-pairs-match-pair-expectations-discordant-pairs-dont\n"
   ]
  },
  {
   "cell_type": "markdown",
   "id": "f890929b",
   "metadata": {},
   "source": [
    "## File types"
   ]
  },
  {
   "cell_type": "markdown",
   "id": "4711cec2",
   "metadata": {},
   "source": [
    "#### 1. fasta - sequences\n",
    "- Plain sequence: *.fasta or *.fa\n",
    "- Nucleotides or amino acids\n",
    "- Useful command:\n",
    "    - grep -c \"^>\" sequence.fasta\n",
    "\n",
    "#### 2. fastq - reads\n"
   ]
  },
  {
   "cell_type": "markdown",
   "id": "bc6ca792",
   "metadata": {},
   "source": [
    "#### 3. SAM (sequence alignment format) - alignment\n",
    "- Column | example\n",
    "- read name | @D00283R:66:CC611..\n",
    "- flag | 89\n",
    "- reference | U00096.3\n",
    "- start position | 12513\n",
    "- mapping quality | 42\n",
    "- CIGAR string | 5M2D7M3S\n",
    "- reference name mate is mapped | =\n",
    "- start position mate | 12928\n",
    "- fragment length | 430\n",
    "- sequence | CATCACCATTCCCAC\n",
    "- base quality | @>4:4C@89+&9CC@\n",
    "- optional | AS:i:-2\n",
    "- optional | XN:i:0\n",
    "\n",
    "https://www.biostars.org/p/17043/\n",
    "https://www.biostars.org/p/354942/\n",
    "https://samtools.github.io/hts-specs/SAMv1.pdf\n",
    "\n",
    "\n",
    "https://samtools.github.io/hts-specs/SAMv1.pdf"
   ]
  },
  {
   "cell_type": "markdown",
   "id": "e969f546",
   "metadata": {},
   "source": [
    "#### 4. BED (Browser Extensible Data) - specify regions\n"
   ]
  },
  {
   "cell_type": "markdown",
   "id": "61a50547",
   "metadata": {},
   "source": [
    "#### 5. GFF (General Feature Format) - Annotation"
   ]
  },
  {
   "cell_type": "markdown",
   "id": "1d26ba3c",
   "metadata": {},
   "source": [
    "#### 6. VCF (Variant Call Format) - variants"
   ]
  },
  {
   "cell_type": "markdown",
   "id": "e390d950",
   "metadata": {},
   "source": [
    "## Samtools"
   ]
  },
  {
   "cell_type": "markdown",
   "id": "224fe1ac",
   "metadata": {},
   "source": [
    "- Use samtools flagstat to get general statistics on the flags stored in a sam/bam file\n",
    "- Use samtools view to:\n",
    "    - compress a sam file into a bam file\n",
    "    - filter on sam flags\n",
    "    - count alignments\n",
    "    - filter out a region\n",
    "- Use samtools sort to sort an alignment file based on coordinate\n",
    "- Use samtools index to create an index of a sorted sam/bam file\n",
    "- Use the pipe (|) symbol to pipe alignments directly to samtools to perform sorting and filtering"
   ]
  },
  {
   "cell_type": "markdown",
   "id": "228302d8",
   "metadata": {},
   "source": [
    "samtools - http://www.htslib.org/doc/samtools.html\n",
    "\n",
    "Explain sam flags- https://broadinstitute.github.io/picard/explain-flags.html"
   ]
  },
  {
   "cell_type": "markdown",
   "id": "d8338def",
   "metadata": {},
   "source": [
    "#### Alignment statistics\n",
    "samtools flagstat - http://www.htslib.org/doc/samtools-flagstat.html\n",
    "\n",
    "\n",
    "- cd ~/workdir/alignment_output/\n",
    "- samtools flagstat SRR519926.sam\n",
    "\n",
    "- You can find info on insert size distribution like this:\n",
    "    - samtools stats SRR519926.sam | grep ^SN | cut -f 2,3"
   ]
  },
  {
   "cell_type": "markdown",
   "id": "d7954a3f",
   "metadata": {},
   "source": [
    "#### Compression, sorting and indexing\n",
    "- samtools view:  It takes an alignment file and writes a filtered or processed alignment to the output\n",
    "\n",
    "\n",
    "- Run 08_compress_sort.sh to:\n",
    "    - convert SAM to BAM\n",
    "    - To look up specific alignments, it is convenient to have your alignment file indexed. \n",
    "    - Indexing is done with samtools as well, but it first needs to be sorted on coordinate (i.e. the alignment location).\n",
    "    - samtools sort SRR519926.bam > SRR519926.sorted.bam\n",
    "    - samtools index SRR519926.sorted.bam\n",
    "\n",
    "\n",
    "- There are two main differences:\n",
    "    - The SO tag at @HD type code has changed from unsorted to coordinate.\n",
    "    - A line with the @PG type code for the sorting was added.\n",
    "Note that the command to view the header (samtools -H) is also added to the header for both runs."
   ]
  },
  {
   "cell_type": "markdown",
   "id": "9c65734e",
   "metadata": {},
   "source": [
    "#### Filtering"
   ]
  },
  {
   "cell_type": "markdown",
   "id": "9cb2620b",
   "metadata": {},
   "source": [
    "- With samtools view you can easily filter your alignment file based on flags. \n",
    "- To filter out unmapped reads.\n",
    "- You will need the 0x4 flag."
   ]
  },
  {
   "cell_type": "markdown",
   "id": "21f6de54",
   "metadata": {},
   "source": [
    "- samtools view -bh -F 0x4 SRR519926.sorted.bam > SRR519926.sorted.mapped.bam\n",
    "or\n",
    "- samtools view -bh -F 4 SRR519926.sorted.bam > SRR519926.sorted.mapped.bam"
   ]
  },
  {
   "cell_type": "markdown",
   "id": "3d0dcaba",
   "metadata": {},
   "source": [
    "- Run 09_extract_unmapped&mapped.sh to generate two seperate file for mapped and ummapped and to get the count in each file."
   ]
  },
  {
   "cell_type": "markdown",
   "id": "908132d6",
   "metadata": {},
   "source": [
    "- samtools view also enables you to filter alignments in a specific region. \n",
    "- This can be convenient if you don’t want to work with huge alignment files and if you’re only interested in alignments in a particular region. \n",
    "- Region filtering only works for sorted and indexed alignment files.\n",
    "\n",
    "- Run 10_extract_region.sh"
   ]
  },
  {
   "cell_type": "markdown",
   "id": "2228388f",
   "metadata": {},
   "source": [
    "#### Redirection\n",
    "- Samtools is easy to use in a pipe. \n",
    "- In this case you can replace the input file with a -. \n",
    "- For example, you can sort and compress the output of your alignment software in a pipe like this:\n",
    "\n",
    "my_alignment_command | samtools sort - | samtools view -bh - > alignment.bam\n"
   ]
  },
  {
   "cell_type": "markdown",
   "id": "597d9a9b",
   "metadata": {},
   "source": [
    "- Run 11_align_sort_filter.sh"
   ]
  },
  {
   "cell_type": "markdown",
   "id": "a6d88868",
   "metadata": {},
   "source": [
    "## IGV and visualisation\n",
    "- Prepare a bam file for loading it into IGV\n",
    "- Use IGV to:\n",
    "    - Navigate through a reference genome and alignments\n",
    "    - Retrieve information on a specific alignment\n",
    "    - Investigate (possible) variants\n",
    "    - Identify repeats and large INDELs"
   ]
  },
  {
   "cell_type": "markdown",
   "id": "6a8640d8",
   "metadata": {},
   "source": [
    "- Tutorial: https://github.com/griffithlab/rnaseq_tutorial/wiki/IGV-Tutorial\n",
    "- Other tutorials from the same hub: \n",
    "    - Tools that integrate DNA-seq and RNA-seq data to help interpret mutations in a regulatory and splicing context.\n",
    "        - https://github.com/griffithlab/regtools\n",
    "    - RNAseq tutorial\n",
    "        - https://github.com/griffithlab/rnaseq_tutorial"
   ]
  },
  {
   "cell_type": "markdown",
   "id": "12875165",
   "metadata": {},
   "source": [
    "- Index the alignment that was filtered for the region between 2000 and 2500 kb\n",
    "- samtools index SRR519926.sorted.region.bam"
   ]
  },
  {
   "cell_type": "markdown",
   "id": "4a3c9c26",
   "metadata": {},
   "source": [
    "Download it together with it’s index file (SRR519926.sorted.region.bam.bai) and the reference genome (ecoli-strK12-MG1655.fasta) to your desktop.\n",
    "- Load the genome (.fasta) into IGV: Genomes > Load Genome from File…\n",
    "- Load the alignment file (.bam): File > Load from File…\n",
    "- Zoom in into the region U00096.3:2046000-2048000."
   ]
  },
  {
   "cell_type": "markdown",
   "id": "599c8591",
   "metadata": {},
   "source": [
    "A lot of model-organism genomes are built-in IGV. Select the human genome version hg19 from the drop down menu:"
   ]
  },
  {
   "cell_type": "markdown",
   "id": "2407a4ef",
   "metadata": {},
   "source": [
    "- Select File > Load from File… from the main menu and select the BAM file HCC1143.normal.21.19M-20M.bam using the file browser.\n",
    "\n",
    "- This BAM file only contains data for a 1 Megabase region of chromosome 21. Let’s navigate there to see what genes this region covers. To do so, navigate to chr21:19,000,000-20,000,000."
   ]
  },
  {
   "cell_type": "markdown",
   "id": "72f34168",
   "metadata": {},
   "source": [
    "- Navigate to the gene CHODL by typing it in the search box."
   ]
  },
  {
   "cell_type": "markdown",
   "id": "1db3ec7e",
   "metadata": {},
   "source": [
    "- Load the dbsnp annotations by clicking File > Load From Server… > Annotations > Variation and Repeats > dbSNP 1.4.7\n",
    "\n",
    "\n",
    "- Like you did with the gene (i.e. by typing it in the search box), navigate to SNP rs3827160 that is annotated in the loaded file."
   ]
  },
  {
   "cell_type": "markdown",
   "id": "05f6fdc3",
   "metadata": {},
   "source": [
    "- Click on the coverage track where the SNP is:"
   ]
  },
  {
   "cell_type": "markdown",
   "id": "01e81cbe",
   "metadata": {},
   "source": [
    "- Navigate to region chr21:19,800,320-19,818,162\n",
    "\n",
    "- Load repeat tracks by selecting File > Load from Server… from the main menu and then select Annotations > Variation and Repeats > Repeat Masker\n",
    "\n",
    "- Right click in the alignment track and select Color alignments by > insert size and pair orientation"
   ]
  },
  {
   "cell_type": "markdown",
   "id": "ed57abdd",
   "metadata": {},
   "source": [
    "- Navigate to region chr21:19,324,500-19,331,500\n",
    "\n",
    "- Right click in the main alignment track and select:\n",
    "\n",
    "- Expanded\n",
    "    - View as pairs\n",
    "    - Color alignments by > insert size and pair orientation\n",
    "    - Sort alignments by > insert size"
   ]
  },
  {
   "cell_type": "markdown",
   "id": "69e961e8",
   "metadata": {},
   "source": []
  }
 ],
 "metadata": {
  "kernelspec": {
   "display_name": "Python 3 (ipykernel)",
   "language": "python",
   "name": "python3"
  },
  "language_info": {
   "codemirror_mode": {
    "name": "ipython",
    "version": 3
   },
   "file_extension": ".py",
   "mimetype": "text/x-python",
   "name": "python",
   "nbconvert_exporter": "python",
   "pygments_lexer": "ipython3",
   "version": "3.11.8"
  }
 },
 "nbformat": 4,
 "nbformat_minor": 5
}
