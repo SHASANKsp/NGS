{
 "cells": [
  {
   "cell_type": "markdown",
   "id": "1fffc452-280b-42d1-a2f3-317ade1e67a7",
   "metadata": {},
   "source": [
    "## Inference from CellRanger output"
   ]
  },
  {
   "cell_type": "markdown",
   "id": "6e4cdd74-3138-4a0e-96a5-ecbb98f11495",
   "metadata": {},
   "source": [
    "- What is the quality of the run?\n",
    "- How many cells do you have?\n",
    "- Is the cell count estimate credible?\n",
    "- Was the sample sequenced deep enough? Where the cells intact and well?\n",
    "- Is the quality of the cells uniform?"
   ]
  },
  {
   "cell_type": "markdown",
   "id": "77153a82-2c07-4818-859e-2c30cc62ea8e",
   "metadata": {},
   "source": [
    "### QC metrics – Sequencing\n",
    "###### Number of Reads: Total number of read pairs that were assigned to this library in demultiplexing.\n",
    "\n",
    "###### Valid Barcodes: Fraction of reads with barcodes that match the whitelist after barcode correction.\n",
    "\n",
    "###### Sequencing Saturation: The fraction of reads originating from an already-observed UMI. This is a function of library complexity and sequencing depth. More specifically, this is the fraction of confidently mapped, valid cell-barcode, valid UMI reads that had a non-unique (cell-barcode, UMI, gene). This metric was called \"cDNA PCR Duplication\" in versions of Cell Ranger prior to 1.2.\n",
    "\n",
    "###### Q30 Bases in Barcode: Fraction of cell barcode bases with Q-score >= 30, excluding very low quality/no-call (Q <= 2) bases from the denominator.\n",
    "\n",
    "###### Q30 Bases in RNA Read: Fraction of RNA read bases with Q-score >= 30, excluding very low quality/no-call (Q <= 2) bases from the denominator. This is Read 1 for the Single Cell 3' v1 chemistry and Read 2 for the Single Cell 3' v2 chemistry.\n",
    "\n",
    "###### Q30 Bases in Sample Index: Fraction of sample index bases with Q-score >= 30, excluding very low quality/no-call (Q <= 2) bases from the denominator.\n",
    "\n",
    "###### Q30 Bases in UMI: Fraction of UMI bases with Q-score >= 30, excluding very low quality/no-call (Q <= 2) bases from the denominator.\n",
    "\n"
   ]
  },
  {
   "cell_type": "code",
   "execution_count": null,
   "id": "31a2a1d7",
   "metadata": {
    "vscode": {
     "languageId": "plaintext"
    }
   },
   "outputs": [],
   "source": []
  },
  {
   "cell_type": "markdown",
   "id": "6c83a04e",
   "metadata": {},
   "source": [
    "### QC metrics – Mapping\n",
    "###### Reads Mapped to Genome: Fraction of reads that mapped to the genome.\n",
    "\n",
    "###### Reads Mapped Confidently to Genome: Fraction of reads that mapped uniquely to the genome. If a gene mapped to exonic loci from a single gene and also to non-exonic loci, it is considered uniquely mapped to one of the exonic loci.\n",
    "\n",
    "###### Reads Mapped Confidently to Intergenic Regions: Fraction of reads that mapped uniquely to an intergenic region of the genome.\n",
    "\n",
    "###### Reads Mapped Confidently to Intronic Regions: Fraction of reads that mapped uniquely to an intronic region of the genome.\n",
    "\n",
    "###### Reads Mapped Confidently to Exonic Regions: Fraction of reads that mapped uniquely to an exonic region of the genome.\n",
    "\n",
    "###### Reads Mapped Confidently to Transcriptome: Fraction of reads that mapped to a unique gene in the transcriptome. The read must be consistent with annotated splice junctions. These reads are considered for UMI counting.\n",
    "\n",
    "###### Reads Mapped Antisense to Gene: Fraction of reads confidently mapped to the transcriptome, but on the opposite strand of their annotated gene. A read is counted as antisense if it has any alignments that are consistent with an exon of a transcript but antisense to it, and has no sense alignments.\n",
    "\n"
   ]
  },
  {
   "cell_type": "code",
   "execution_count": null,
   "id": "cbde0a4b",
   "metadata": {
    "vscode": {
     "languageId": "plaintext"
    }
   },
   "outputs": [],
   "source": []
  },
  {
   "cell_type": "markdown",
   "id": "734952f5",
   "metadata": {},
   "source": [
    "### Ranked Barcode Plot\n",
    "\n",
    "The Barcode Rank Plot under the \"Cells\" dashboard shows the distribution of barcode counts and which barcodes were inferred to be associated with cells. It is one of the most informative QC plots, it enables one to assess sample quality and to formulate hypothesis of what might have gone wrong if the experiment was not perfectly successful.\n",
    "\n",
    "To obtain this plot, reads are grouped by barcode, the number of UMI is counted, resulting in a vector of UMI count per barcode (note: one barcode - one GEM!). The counts are then sorted and the vector is displayed in rank vs counts plot:\n",
    "\n",
    "The y-axis is the number of UMI counts mapped to each barcode and the x-axis is the number of barcodes below that value.\n",
    "\n",
    "Note that due to the high number of GEMs with at least one UMI the only way to visualize all the data is a log-log axes plot.\n",
    "\n",
    "How does one interpret the plot? What to expect?\n",
    "\n",
    "Ideally there is a steep dropoff separating high UMI count cells from low UMI count background noise:\n",
    "\n",
    "A steep drop-off is indicative of good separation between the cell-associated barcodes and the barcodes associated with empty partitions.\n",
    "\n",
    "Barcodes can be determined to be cell-associated based on their UMI count or by their RNA profiles, therefore some regions of the graph can contain both cell-associated and background-associated barcodes.\n",
    "\n",
    "The color of the graph represents the local density of barcodes that are cell-associated.\n",
    "\n",
    "In fact, the cutoff is determined with a two-step procedure:\n",
    "\n",
    "- It uses a cutoff based on total UMI counts of each barcode to identify cells. This step identifies the primary mode of high RNA content cells.\n",
    "- Then the algorithm uses the RNA profile of each remaining barcode to determine if it is an “empty\" or a cell containing partition. This second step captures low RNA content cells, whose total UMI counts may be similar to empty GEMs.\n",
    "\n"
   ]
  },
  {
   "cell_type": "code",
   "execution_count": null,
   "id": "1818e9bb",
   "metadata": {
    "vscode": {
     "languageId": "plaintext"
    }
   },
   "outputs": [],
   "source": []
  },
  {
   "cell_type": "markdown",
   "id": "d8f9f6ad",
   "metadata": {},
   "source": [
    "### Saturation - is there a gain in sequencing more?\n",
    "\n",
    "The sequencing saturation plot allows the user to assess the relative tradeoffs of sequencing deeper or shallower. As sequencing saturation increases, the total number of molecules detected in the library increases, but with diminishing returns as saturation is approached.\n",
    "\n",
    "A good rule of thumb for most cell types is that: An average of 40k reads per cell is a minimal sufficient that with 80k reads being usually an excellent depth. There is certainly gain in sequencing more but it is not cost-effective in general. So, it is important to evaluate if going deeper has a value to your scientific question."
   ]
  },
  {
   "cell_type": "markdown",
   "id": "bfe29e81",
   "metadata": {},
   "source": []
  }
 ],
 "metadata": {
  "kernelspec": {
   "display_name": "Python 3 (ipykernel)",
   "language": "python",
   "name": "python3"
  },
  "language_info": {
   "codemirror_mode": {
    "name": "ipython",
    "version": 3
   },
   "file_extension": ".py",
   "mimetype": "text/x-python",
   "name": "python",
   "nbconvert_exporter": "python",
   "pygments_lexer": "ipython3",
   "version": "3.11.5"
  }
 },
 "nbformat": 4,
 "nbformat_minor": 5
}
